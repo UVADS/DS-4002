{
 "cells": [
  {
   "cell_type": "code",
   "execution_count": 13,
   "metadata": {},
   "outputs": [],
   "source": [
    "import pandas as pd\n",
    "import numpy as np\n",
    "import matplotlib.pyplot as plt"
   ]
  },
  {
   "cell_type": "code",
   "execution_count": 5,
   "metadata": {},
   "outputs": [
    {
     "data": {
      "text/html": [
       "<div>\n",
       "<style scoped>\n",
       "    .dataframe tbody tr th:only-of-type {\n",
       "        vertical-align: middle;\n",
       "    }\n",
       "\n",
       "    .dataframe tbody tr th {\n",
       "        vertical-align: top;\n",
       "    }\n",
       "\n",
       "    .dataframe thead th {\n",
       "        text-align: right;\n",
       "    }\n",
       "</style>\n",
       "<table border=\"1\" class=\"dataframe\">\n",
       "  <thead>\n",
       "    <tr style=\"text-align: right;\">\n",
       "      <th></th>\n",
       "      <th>Timestamp</th>\n",
       "      <th>Do you believe that a hotdog falls under the category of a sandwich?</th>\n",
       "      <th>What is the rationale behind your opinion?</th>\n",
       "      <th>Are you currently enrolled as an undergraduate or graduate student at the University of Virginia?</th>\n",
       "      <th>What is your field of study or major?</th>\n",
       "      <th>What state or country were you born in?</th>\n",
       "      <th>If you are an undergraduate, what is your current academic year?</th>\n",
       "      <th>Gender: How do you identify?</th>\n",
       "      <th>You preferred to self-describe for gender; please, share your identity below</th>\n",
       "    </tr>\n",
       "  </thead>\n",
       "  <tbody>\n",
       "    <tr>\n",
       "      <th>0</th>\n",
       "      <td>2025-01-15 21:53:04.789</td>\n",
       "      <td>No</td>\n",
       "      <td>The content inside isn’t covered u can see the...</td>\n",
       "      <td>Yes</td>\n",
       "      <td>Applied statistics with data science conc + da...</td>\n",
       "      <td>VA, USA</td>\n",
       "      <td>Third year</td>\n",
       "      <td>Woman</td>\n",
       "      <td>NaN</td>\n",
       "    </tr>\n",
       "    <tr>\n",
       "      <th>1</th>\n",
       "      <td>2025-01-15 21:53:50.656</td>\n",
       "      <td>No</td>\n",
       "      <td>Sandwich bread is two separate slices, hotdog ...</td>\n",
       "      <td>Yes</td>\n",
       "      <td>Economics/Pre-Comm</td>\n",
       "      <td>Virginia, United States of America</td>\n",
       "      <td>Second year</td>\n",
       "      <td>Woman</td>\n",
       "      <td>NaN</td>\n",
       "    </tr>\n",
       "    <tr>\n",
       "      <th>2</th>\n",
       "      <td>2025-01-15 21:54:43.145</td>\n",
       "      <td>No</td>\n",
       "      <td>the bread is connected</td>\n",
       "      <td>Yes</td>\n",
       "      <td>biology</td>\n",
       "      <td>virginia</td>\n",
       "      <td>Third year</td>\n",
       "      <td>Woman</td>\n",
       "      <td>NaN</td>\n",
       "    </tr>\n",
       "    <tr>\n",
       "      <th>3</th>\n",
       "      <td>2025-01-15 21:56:42.838</td>\n",
       "      <td>Yesss</td>\n",
       "      <td>It is a piece of meat encapsulated by bread! I...</td>\n",
       "      <td>Yes</td>\n",
       "      <td>Biology and Psychology</td>\n",
       "      <td>Virginia</td>\n",
       "      <td>Fourth year</td>\n",
       "      <td>Woman</td>\n",
       "      <td>NaN</td>\n",
       "    </tr>\n",
       "    <tr>\n",
       "      <th>4</th>\n",
       "      <td>2025-01-15 21:57:58.684</td>\n",
       "      <td>NO</td>\n",
       "      <td>A hot dog is not a sandwich because its openin...</td>\n",
       "      <td>Yes</td>\n",
       "      <td>Nursing</td>\n",
       "      <td>Virginia</td>\n",
       "      <td>Second year</td>\n",
       "      <td>Woman</td>\n",
       "      <td>NaN</td>\n",
       "    </tr>\n",
       "  </tbody>\n",
       "</table>\n",
       "</div>"
      ],
      "text/plain": [
       "                Timestamp  \\\n",
       "0 2025-01-15 21:53:04.789   \n",
       "1 2025-01-15 21:53:50.656   \n",
       "2 2025-01-15 21:54:43.145   \n",
       "3 2025-01-15 21:56:42.838   \n",
       "4 2025-01-15 21:57:58.684   \n",
       "\n",
       "  Do you believe that a hotdog falls under the category of a sandwich?  \\\n",
       "0                                                 No                     \n",
       "1                                                 No                     \n",
       "2                                                 No                     \n",
       "3                                              Yesss                     \n",
       "4                                                 NO                     \n",
       "\n",
       "          What is the rationale behind your opinion?  \\\n",
       "0  The content inside isn’t covered u can see the...   \n",
       "1  Sandwich bread is two separate slices, hotdog ...   \n",
       "2                             the bread is connected   \n",
       "3  It is a piece of meat encapsulated by bread! I...   \n",
       "4  A hot dog is not a sandwich because its openin...   \n",
       "\n",
       "  Are you currently enrolled as an undergraduate or graduate student at the University of Virginia?  \\\n",
       "0                                                Yes                                                  \n",
       "1                                                Yes                                                  \n",
       "2                                                Yes                                                  \n",
       "3                                                Yes                                                  \n",
       "4                                                Yes                                                  \n",
       "\n",
       "               What is your field of study or major?  \\\n",
       "0  Applied statistics with data science conc + da...   \n",
       "1                                 Economics/Pre-Comm   \n",
       "2                                            biology   \n",
       "3                             Biology and Psychology   \n",
       "4                                            Nursing   \n",
       "\n",
       "  What state or country were you born in?  \\\n",
       "0                                 VA, USA   \n",
       "1      Virginia, United States of America   \n",
       "2                                virginia   \n",
       "3                                Virginia   \n",
       "4                                Virginia   \n",
       "\n",
       "  If you are an undergraduate, what is your current academic year?  \\\n",
       "0                                         Third year                 \n",
       "1                                        Second year                 \n",
       "2                                         Third year                 \n",
       "3                                        Fourth year                 \n",
       "4                                        Second year                 \n",
       "\n",
       "  Gender: How do you identify?  \\\n",
       "0                        Woman   \n",
       "1                        Woman   \n",
       "2                        Woman   \n",
       "3                        Woman   \n",
       "4                        Woman   \n",
       "\n",
       "  You preferred to self-describe for gender; please, share your identity below  \n",
       "0                                                NaN                            \n",
       "1                                                NaN                            \n",
       "2                                                NaN                            \n",
       "3                                                NaN                            \n",
       "4                                                NaN                            "
      ]
     },
     "execution_count": 5,
     "metadata": {},
     "output_type": "execute_result"
    }
   ],
   "source": [
    "df = pd.read_excel('hot_dog_survey_spring25.xlsx')\n",
    "df.head()"
   ]
  },
  {
   "cell_type": "code",
   "execution_count": 8,
   "metadata": {},
   "outputs": [],
   "source": [
    "is_sandwich = df['Do you believe that a hotdog falls under the category of a sandwich?']\n",
    "is_sandwich = [i[0] for i in is_sandwich]\n",
    "df['Do you believe that a hotdog falls under the category of a sandwich?'] = is_sandwich"
   ]
  },
  {
   "cell_type": "code",
   "execution_count": 21,
   "metadata": {},
   "outputs": [],
   "source": [
    "is_undergrad = df['Are you currently enrolled as an undergraduate or graduate student at the University of Virginia?']\n",
    "df['Are you currently enrolled as an undergraduate or graduate student at the University of Virginia?'] = is_undergrad"
   ]
  },
  {
   "cell_type": "code",
   "execution_count": 19,
   "metadata": {},
   "outputs": [
    {
     "data": {
      "text/html": [
       "<div>\n",
       "<style scoped>\n",
       "    .dataframe tbody tr th:only-of-type {\n",
       "        vertical-align: middle;\n",
       "    }\n",
       "\n",
       "    .dataframe tbody tr th {\n",
       "        vertical-align: top;\n",
       "    }\n",
       "\n",
       "    .dataframe thead th {\n",
       "        text-align: right;\n",
       "    }\n",
       "</style>\n",
       "<table border=\"1\" class=\"dataframe\">\n",
       "  <thead>\n",
       "    <tr style=\"text-align: right;\">\n",
       "      <th></th>\n",
       "      <th>Timestamp</th>\n",
       "      <th>Do you believe that a hotdog falls under the category of a sandwich?</th>\n",
       "      <th>What is the rationale behind your opinion?</th>\n",
       "      <th>Are you currently enrolled as an undergraduate or graduate student at the University of Virginia?</th>\n",
       "      <th>What is your field of study or major?</th>\n",
       "      <th>What state or country were you born in?</th>\n",
       "      <th>If you are an undergraduate, what is your current academic year?</th>\n",
       "      <th>Gender: How do you identify?</th>\n",
       "      <th>You preferred to self-describe for gender; please, share your identity below</th>\n",
       "    </tr>\n",
       "  </thead>\n",
       "  <tbody>\n",
       "    <tr>\n",
       "      <th>0</th>\n",
       "      <td>2025-01-15 21:53:04.789</td>\n",
       "      <td>N</td>\n",
       "      <td>The content inside isn’t covered u can see the...</td>\n",
       "      <td>True</td>\n",
       "      <td>Applied statistics with data science conc + da...</td>\n",
       "      <td>VA, USA</td>\n",
       "      <td>Third year</td>\n",
       "      <td>Woman</td>\n",
       "      <td>NaN</td>\n",
       "    </tr>\n",
       "    <tr>\n",
       "      <th>1</th>\n",
       "      <td>2025-01-15 21:53:50.656</td>\n",
       "      <td>N</td>\n",
       "      <td>Sandwich bread is two separate slices, hotdog ...</td>\n",
       "      <td>True</td>\n",
       "      <td>Economics/Pre-Comm</td>\n",
       "      <td>Virginia, United States of America</td>\n",
       "      <td>Second year</td>\n",
       "      <td>Woman</td>\n",
       "      <td>NaN</td>\n",
       "    </tr>\n",
       "    <tr>\n",
       "      <th>2</th>\n",
       "      <td>2025-01-15 21:54:43.145</td>\n",
       "      <td>N</td>\n",
       "      <td>the bread is connected</td>\n",
       "      <td>True</td>\n",
       "      <td>biology</td>\n",
       "      <td>virginia</td>\n",
       "      <td>Third year</td>\n",
       "      <td>Woman</td>\n",
       "      <td>NaN</td>\n",
       "    </tr>\n",
       "    <tr>\n",
       "      <th>3</th>\n",
       "      <td>2025-01-15 21:56:42.838</td>\n",
       "      <td>Y</td>\n",
       "      <td>It is a piece of meat encapsulated by bread! I...</td>\n",
       "      <td>True</td>\n",
       "      <td>Biology and Psychology</td>\n",
       "      <td>Virginia</td>\n",
       "      <td>Fourth year</td>\n",
       "      <td>Woman</td>\n",
       "      <td>NaN</td>\n",
       "    </tr>\n",
       "    <tr>\n",
       "      <th>4</th>\n",
       "      <td>2025-01-15 21:57:58.684</td>\n",
       "      <td>N</td>\n",
       "      <td>A hot dog is not a sandwich because its openin...</td>\n",
       "      <td>True</td>\n",
       "      <td>Nursing</td>\n",
       "      <td>Virginia</td>\n",
       "      <td>Second year</td>\n",
       "      <td>Woman</td>\n",
       "      <td>NaN</td>\n",
       "    </tr>\n",
       "  </tbody>\n",
       "</table>\n",
       "</div>"
      ],
      "text/plain": [
       "                Timestamp  \\\n",
       "0 2025-01-15 21:53:04.789   \n",
       "1 2025-01-15 21:53:50.656   \n",
       "2 2025-01-15 21:54:43.145   \n",
       "3 2025-01-15 21:56:42.838   \n",
       "4 2025-01-15 21:57:58.684   \n",
       "\n",
       "  Do you believe that a hotdog falls under the category of a sandwich?  \\\n",
       "0                                                  N                     \n",
       "1                                                  N                     \n",
       "2                                                  N                     \n",
       "3                                                  Y                     \n",
       "4                                                  N                     \n",
       "\n",
       "          What is the rationale behind your opinion?  \\\n",
       "0  The content inside isn’t covered u can see the...   \n",
       "1  Sandwich bread is two separate slices, hotdog ...   \n",
       "2                             the bread is connected   \n",
       "3  It is a piece of meat encapsulated by bread! I...   \n",
       "4  A hot dog is not a sandwich because its openin...   \n",
       "\n",
       "   Are you currently enrolled as an undergraduate or graduate student at the University of Virginia?  \\\n",
       "0                                               True                                                   \n",
       "1                                               True                                                   \n",
       "2                                               True                                                   \n",
       "3                                               True                                                   \n",
       "4                                               True                                                   \n",
       "\n",
       "               What is your field of study or major?  \\\n",
       "0  Applied statistics with data science conc + da...   \n",
       "1                                 Economics/Pre-Comm   \n",
       "2                                            biology   \n",
       "3                             Biology and Psychology   \n",
       "4                                            Nursing   \n",
       "\n",
       "  What state or country were you born in?  \\\n",
       "0                                 VA, USA   \n",
       "1      Virginia, United States of America   \n",
       "2                                virginia   \n",
       "3                                Virginia   \n",
       "4                                Virginia   \n",
       "\n",
       "  If you are an undergraduate, what is your current academic year?  \\\n",
       "0                                         Third year                 \n",
       "1                                        Second year                 \n",
       "2                                         Third year                 \n",
       "3                                        Fourth year                 \n",
       "4                                        Second year                 \n",
       "\n",
       "  Gender: How do you identify?  \\\n",
       "0                        Woman   \n",
       "1                        Woman   \n",
       "2                        Woman   \n",
       "3                        Woman   \n",
       "4                        Woman   \n",
       "\n",
       "  You preferred to self-describe for gender; please, share your identity below  \n",
       "0                                                NaN                            \n",
       "1                                                NaN                            \n",
       "2                                                NaN                            \n",
       "3                                                NaN                            \n",
       "4                                                NaN                            "
      ]
     },
     "execution_count": 19,
     "metadata": {},
     "output_type": "execute_result"
    }
   ],
   "source": [
    "df.head()"
   ]
  },
  {
   "cell_type": "code",
   "execution_count": 11,
   "metadata": {},
   "outputs": [
    {
     "name": "stdout",
     "output_type": "stream",
     "text": [
      "64 64\n"
     ]
    }
   ],
   "source": [
    "yes_counts = len(df['Do you believe that a hotdog falls under the category of a sandwich?'] == 'Y')\n",
    "no_counts = len(df['Do you believe that a hotdog falls under the category of a sandwich?'] == 'N')\n",
    "print(yes_counts, no_counts)"
   ]
  },
  {
   "cell_type": "code",
   "execution_count": 15,
   "metadata": {},
   "outputs": [
    {
     "data": {
      "text/plain": [
       "Text(0.5, 1.0, 'Hot Dog Survey Response 2025 - Is A Hotdog a Sandwich?')"
      ]
     },
     "execution_count": 15,
     "metadata": {},
     "output_type": "execute_result"
    },
    {
     "data": {
      "image/png": "[encoded data removed]",
      "text/plain": [
       "<Figure size 640x480 with 1 Axes>"
      ]
     },
     "metadata": {},
     "output_type": "display_data"
    }
   ],
   "source": [
    "plt.bar(['Yes', 'No'], [yes_counts, no_counts])\n",
    "plt.title('Hot Dog Survey Response 2025 - Is A Hotdog a Sandwich?')"
   ]
  },
  {
   "cell_type": "code",
   "execution_count": 24,
   "metadata": {},
   "outputs": [],
   "source": [
    "df = df[df['Are you currently enrolled as an undergraduate or graduate student at the University of Virginia?']]"
   ]
  },
  {
   "cell_type": "code",
   "execution_count": 25,
   "metadata": {},
   "outputs": [
    {
     "name": "stdout",
     "output_type": "stream",
     "text": [
      "58 58\n"
     ]
    }
   ],
   "source": [
    "yes_counts = len(df['Do you believe that a hotdog falls under the category of a sandwich?'] == 'Y')\n",
    "no_counts = len(df['Do you believe that a hotdog falls under the category of a sandwich?'] == 'N')\n",
    "print(yes_counts, no_counts)"
   ]
  },
  {
   "cell_type": "code",
   "execution_count": 26,
   "metadata": {},
   "outputs": [
    {
     "data": {
      "text/plain": [
       "Text(0.5, 1.0, 'Hot Dog Survey Response 2025 - Is A Hotdog a Sandwich?')"
      ]
     },
     "execution_count": 26,
     "metadata": {},
     "output_type": "execute_result"
    },
    {
     "data": {
      "image/png": "[encoded data removed]",
      "text/plain": [
       "<Figure size 640x480 with 1 Axes>"
      ]
     },
     "metadata": {},
     "output_type": "display_data"
    }
   ],
   "source": [
    "plt.bar(['Yes', 'No'], [yes_counts, no_counts])\n",
    "plt.title('Hot Dog Survey Response 2025 - Is A Hotdog a Sandwich?')"
   ]
  }
 ],
 "metadata": {
  "kernelspec": {
   "display_name": "base",
   "language": "python",
   "name": "python3"
  },
  "language_info": {
   "codemirror_mode": {
    "name": "ipython",
    "version": 3
   },
   "file_extension": ".py",
   "mimetype": "text/x-python",
   "name": "python",
   "nbconvert_exporter": "python",
   "pygments_lexer": "ipython3",
   "version": "3.11.5"
  }
 },
 "nbformat": 4,
 "nbformat_minor": 2
}
