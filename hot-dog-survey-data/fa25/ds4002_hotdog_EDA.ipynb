{
 "cells": [
  {
   "cell_type": "code",
   "execution_count": 12,
   "id": "d97e0ca0-da5e-4293-8abb-0c2e7bc3f457",
   "metadata": {},
   "outputs": [],
   "source": [
    "#importing necessary packages to wrangle data and run EDA\n",
    "import pandas as pd\n",
    "import numpy as np\n",
    "#Visualization tools\n",
    "import matplotlib.pyplot as plt\n",
    "import seaborn as sns"
   ]
  },
  {
   "cell_type": "code",
   "execution_count": 8,
   "id": "2ed162ee-0771-4008-9b5d-cd849d22aafc",
   "metadata": {},
   "outputs": [],
   "source": [
    "hotdogdata= pd.read_excel(\"https://github.com/gatesz33/DS-4002/raw/refs/heads/main/hot-dog-survey-data/fa25/Is%20hotdog%20a%20sandwich_%20(Responses).xlsx\")"
   ]
  },
  {
   "cell_type": "code",
   "execution_count": 10,
   "id": "95590a86-8c74-4631-b957-d90459100677",
   "metadata": {},
   "outputs": [
    {
     "data": {
      "text/html": [
       "<div>\n",
       "<style scoped>\n",
       "    .dataframe tbody tr th:only-of-type {\n",
       "        vertical-align: middle;\n",
       "    }\n",
       "\n",
       "    .dataframe tbody tr th {\n",
       "        vertical-align: top;\n",
       "    }\n",
       "\n",
       "    .dataframe thead th {\n",
       "        text-align: right;\n",
       "    }\n",
       "</style>\n",
       "<table border=\"1\" class=\"dataframe\">\n",
       "  <thead>\n",
       "    <tr style=\"text-align: right;\">\n",
       "      <th></th>\n",
       "      <th>Timestamp</th>\n",
       "      <th>Year</th>\n",
       "      <th>Response</th>\n",
       "    </tr>\n",
       "  </thead>\n",
       "  <tbody>\n",
       "    <tr>\n",
       "      <th>0</th>\n",
       "      <td>2025-08-29 17:17:56.622</td>\n",
       "      <td>4</td>\n",
       "      <td>Yes</td>\n",
       "    </tr>\n",
       "    <tr>\n",
       "      <th>1</th>\n",
       "      <td>2025-08-29 18:33:07.653</td>\n",
       "      <td>3</td>\n",
       "      <td>Yes</td>\n",
       "    </tr>\n",
       "    <tr>\n",
       "      <th>2</th>\n",
       "      <td>2025-08-29 18:33:08.405</td>\n",
       "      <td>4</td>\n",
       "      <td>Yes</td>\n",
       "    </tr>\n",
       "    <tr>\n",
       "      <th>3</th>\n",
       "      <td>2025-08-29 18:33:28.632</td>\n",
       "      <td>3</td>\n",
       "      <td>Yes</td>\n",
       "    </tr>\n",
       "    <tr>\n",
       "      <th>4</th>\n",
       "      <td>2025-08-29 18:33:41.234</td>\n",
       "      <td>1</td>\n",
       "      <td>No</td>\n",
       "    </tr>\n",
       "    <tr>\n",
       "      <th>...</th>\n",
       "      <td>...</td>\n",
       "      <td>...</td>\n",
       "      <td>...</td>\n",
       "    </tr>\n",
       "    <tr>\n",
       "      <th>202</th>\n",
       "      <td>2025-09-01 12:11:24.317</td>\n",
       "      <td>4</td>\n",
       "      <td>No</td>\n",
       "    </tr>\n",
       "    <tr>\n",
       "      <th>203</th>\n",
       "      <td>2025-09-01 12:13:56.332</td>\n",
       "      <td>3</td>\n",
       "      <td>No</td>\n",
       "    </tr>\n",
       "    <tr>\n",
       "      <th>204</th>\n",
       "      <td>2025-09-01 12:18:07.424</td>\n",
       "      <td>4</td>\n",
       "      <td>Yes</td>\n",
       "    </tr>\n",
       "    <tr>\n",
       "      <th>205</th>\n",
       "      <td>2025-09-01 12:18:41.254</td>\n",
       "      <td>2</td>\n",
       "      <td>Yes</td>\n",
       "    </tr>\n",
       "    <tr>\n",
       "      <th>206</th>\n",
       "      <td>2025-09-01 12:18:42.441</td>\n",
       "      <td>4</td>\n",
       "      <td>Yes</td>\n",
       "    </tr>\n",
       "  </tbody>\n",
       "</table>\n",
       "<p>207 rows × 3 columns</p>\n",
       "</div>"
      ],
      "text/plain": [
       "                  Timestamp  Year Response\n",
       "0   2025-08-29 17:17:56.622     4      Yes\n",
       "1   2025-08-29 18:33:07.653     3      Yes\n",
       "2   2025-08-29 18:33:08.405     4      Yes\n",
       "3   2025-08-29 18:33:28.632     3      Yes\n",
       "4   2025-08-29 18:33:41.234     1       No\n",
       "..                      ...   ...      ...\n",
       "202 2025-09-01 12:11:24.317     4       No\n",
       "203 2025-09-01 12:13:56.332     3       No\n",
       "204 2025-09-01 12:18:07.424     4      Yes\n",
       "205 2025-09-01 12:18:41.254     2      Yes\n",
       "206 2025-09-01 12:18:42.441     4      Yes\n",
       "\n",
       "[207 rows x 3 columns]"
      ]
     },
     "execution_count": 10,
     "metadata": {},
     "output_type": "execute_result"
    }
   ],
   "source": [
    "hotdogdata"
   ]
  },
  {
   "cell_type": "code",
   "execution_count": 28,
   "id": "74b003cf-b728-436b-8340-d157997ac8a3",
   "metadata": {},
   "outputs": [
    {
     "name": "stdout",
     "output_type": "stream",
     "text": [
      "Response  No  Yes\n",
      "Year             \n",
      "1          8    0\n",
      "2         30   10\n",
      "3         34   11\n",
      "4         78   36\n"
     ]
    }
   ],
   "source": [
    "#Cross tabulation to see the breakdown in responses by year at UVA\n",
    "counts = pd.crosstab(hotdogdata['Year'], hotdogdata['Response'])\n",
    "print(counts)"
   ]
  },
  {
   "cell_type": "code",
   "execution_count": 20,
   "id": "c7590e47-caa2-4bfa-890a-3e32e9521cb0",
   "metadata": {
    "scrolled": true
   },
   "outputs": [
    {
     "name": "stderr",
     "output_type": "stream",
     "text": [
      "C:\\Users\\gates\\AppData\\Local\\Temp\\ipykernel_4256\\1646259511.py:1: FutureWarning: \n",
      "\n",
      "Passing `palette` without assigning `hue` is deprecated and will be removed in v0.14.0. Assign the `x` variable to `hue` and set `legend=False` for the same effect.\n",
      "\n",
      "  sns.countplot(x='Response', data=hotdogdata, palette=['green','red'])\n"
     ]
    },
    {
     "data": {
      "image/png": "[encoded data removed]",
      "text/plain": [
       "<Figure size 640x480 with 1 Axes>"
      ]
     },
     "metadata": {},
     "output_type": "display_data"
    }
   ],
   "source": [
    "#Bar chart showing the simple yes/no breakdown of survey responses\n",
    "sns.countplot(x='Response', data=hotdogdata, palette=['green','red'])\n",
    "plt.title('Is a Hotdog a Sandwich Responses')\n",
    "plt.show()"
   ]
  },
  {
   "cell_type": "code",
   "execution_count": 38,
   "id": "96ccfca8-8b96-4cca-acbf-963ceff9a78b",
   "metadata": {},
   "outputs": [
    {
     "data": {
      "image/png": "[encoded data removed]",
      "text/plain": [
       "<Figure size 640x480 with 1 Axes>"
      ]
     },
     "metadata": {},
     "output_type": "display_data"
    }
   ],
   "source": [
    "#Stacked bar chart of responses per year\n",
    "years = ['1', '2', '3','4']\n",
    "yes = [0,10,11,36]\n",
    "no = [8,30,34,78]\n",
    "\n",
    "x = np.arange(len(years))\n",
    "plt.bar(x, yes, label='Yes', color='green')\n",
    "plt.bar(x, no, bottom=yes, label='No', color='red')  # stacked on top\n",
    "plt.ylabel('Counts')\n",
    "plt.xticks(x,years)\n",
    "plt.title('Stacked Bar Chart of Yes/No by UVA Year')\n",
    "plt.show()"
   ]
  },
  {
   "cell_type": "code",
   "execution_count": null,
   "id": "f87c7a2c-32a6-4a7c-8bbf-879783f12b12",
   "metadata": {},
   "outputs": [],
   "source": []
  }
 ],
 "metadata": {
  "kernelspec": {
   "display_name": "Python 3 (ipykernel)",
   "language": "python",
   "name": "python3"
  },
  "language_info": {
   "codemirror_mode": {
    "name": "ipython",
    "version": 3
   },
   "file_extension": ".py",
   "mimetype": "text/x-python",
   "name": "python",
   "nbconvert_exporter": "python",
   "pygments_lexer": "ipython3",
   "version": "3.12.4"
  }
 },
 "nbformat": 4,
 "nbformat_minor": 5
}
